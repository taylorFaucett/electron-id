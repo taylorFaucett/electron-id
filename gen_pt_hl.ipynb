{
 "cells": [
  {
   "cell_type": "code",
   "execution_count": 1,
   "metadata": {},
   "outputs": [],
   "source": [
    "import pyjet\n",
    "import h5py\n",
    "import pandas as pd\n",
    "import numpy as np"
   ]
  },
  {
   "cell_type": "code",
   "execution_count": 42,
   "metadata": {},
   "outputs": [
    {
     "name": "stdout",
     "output_type": "stream",
     "text": [
      "Processing data type: et, test\n",
      "Processing data type: et, train\n",
      "Processing data type: et, valid\n",
      "Processing data type: ht, test\n",
      "Processing data type: ht, train\n",
      "Processing data type: ht, valid\n"
     ]
    }
   ],
   "source": [
    "dtypes = [\"et\", \"ht\"]\n",
    "splits = [\"test\", \"train\", \"valid\"]\n",
    "for dtype in dtypes:\n",
    "    for split in splits:\n",
    "        print(f\"Processing data type: {dtype}, {split}\")\n",
    "        pT_max = []\n",
    "        data = h5py.File(\"data/raw/data.h5\", \"r\")[dtype][split]\n",
    "        for ix in range(len(data)):\n",
    "            evt = data[ix]\n",
    "            pT_sum = np.sum(evt)\n",
    "            pT_max.append(pT_sum)\n",
    "        np.save(f\"data/raw/pT_{split}_{dtype}.npy\", pT_max)"
   ]
  },
  {
   "cell_type": "code",
   "execution_count": 40,
   "metadata": {},
   "outputs": [
    {
     "name": "stdout",
     "output_type": "stream",
     "text": [
      "42977\n"
     ]
    }
   ],
   "source": [
    "data = h5py.File(\"data/raw/data.h5\", \"r\")[\"et\"][\"test\"]\n",
    "np.sum(data[0])\n",
    "print(len(data))"
   ]
  },
  {
   "cell_type": "code",
   "execution_count": null,
   "metadata": {},
   "outputs": [],
   "source": []
  }
 ],
 "metadata": {
  "kernelspec": {
   "display_name": "Python 3",
   "language": "python",
   "name": "python3"
  },
  "language_info": {
   "codemirror_mode": {
    "name": "ipython",
    "version": 3
   },
   "file_extension": ".py",
   "mimetype": "text/x-python",
   "name": "python",
   "nbconvert_exporter": "python",
   "pygments_lexer": "ipython3",
   "version": "3.8.3"
  }
 },
 "nbformat": 4,
 "nbformat_minor": 4
}
